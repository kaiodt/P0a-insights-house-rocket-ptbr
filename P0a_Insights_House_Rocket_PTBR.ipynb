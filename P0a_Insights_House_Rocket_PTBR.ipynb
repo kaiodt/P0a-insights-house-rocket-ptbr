{
 "cells": [
  {
   "cell_type": "markdown",
   "id": "9b2d0a1b",
   "metadata": {},
   "source": [
    "# Projeto de Insights - House Rocket\n",
    "---"
   ]
  },
  {
   "cell_type": "markdown",
   "id": "8fcfaa96",
   "metadata": {},
   "source": [
    "![House Rocket](https://image.freepik.com/free-vector/flat-design-house-sale_23-2148638482.jpg)\n",
    "\n",
    "Fonte da Imagem: [Freepik](https://www.freepik.com/)"
   ]
  },
  {
   "cell_type": "markdown",
   "id": "d86f3b14",
   "metadata": {
    "toc": true
   },
   "source": [
    "<h1>Sumário<span class=\"tocSkip\"></span></h1>\n",
    "<div class=\"toc\"><ul class=\"toc-item\"><li><span><a href=\"#Projeto-de-Insights---House-Rocket\" data-toc-modified-id=\"Projeto-de-Insights---House-Rocket-1\">Projeto de Insights - House Rocket</a></span></li><li><span><a href=\"#1.-Introdução\" data-toc-modified-id=\"1.-Introdução-2\">1. Introdução</a></span><ul class=\"toc-item\"><li><span><a href=\"#1.1.-A-Empresa\" data-toc-modified-id=\"1.1.-A-Empresa-2.1\">1.1. A Empresa</a></span></li><li><span><a href=\"#1.2.-Questões-de-Negócio\" data-toc-modified-id=\"1.2.-Questões-de-Negócio-2.2\">1.2. Questões de Negócio</a></span></li><li><span><a href=\"#1.3.-Premissas-de-Negócio\" data-toc-modified-id=\"1.3.-Premissas-de-Negócio-2.3\">1.3. Premissas de Negócio</a></span></li></ul></li><li><span><a href=\"#2.-Planejamento-da-Solução\" data-toc-modified-id=\"2.-Planejamento-da-Solução-3\">2. Planejamento da Solução</a></span><ul class=\"toc-item\"><li><span><a href=\"#2.1.-Dataset\" data-toc-modified-id=\"2.1.-Dataset-3.1\">2.1. Dataset</a></span></li><li><span><a href=\"#2.2.-Produto-Final-(Entregável)\" data-toc-modified-id=\"2.2.-Produto-Final-(Entregável)-3.2\">2.2. Produto Final (Entregável)</a></span></li><li><span><a href=\"#2.3.-Ferramentas\" data-toc-modified-id=\"2.3.-Ferramentas-3.3\">2.3. Ferramentas</a></span></li><li><span><a href=\"#2.4.-Planejamento\" data-toc-modified-id=\"2.4.-Planejamento-3.4\">2.4. Planejamento</a></span></li></ul></li><li><span><a href=\"#3.-Imports-de-Bibliotecas\" data-toc-modified-id=\"3.-Imports-de-Bibliotecas-4\">3. Imports de Bibliotecas</a></span></li><li><span><a href=\"#4.-Obtenção-dos-Dados\" data-toc-modified-id=\"4.-Obtenção-dos-Dados-5\">4. Obtenção dos Dados</a></span></li><li><span><a href=\"#5.-Limpeza-dos-Dados\" data-toc-modified-id=\"5.-Limpeza-dos-Dados-6\">5. Limpeza dos Dados</a></span></li><li><span><a href=\"#6.-Análise-Exploratória-dos-Dados\" data-toc-modified-id=\"6.-Análise-Exploratória-dos-Dados-7\">6. Análise Exploratória dos Dados</a></span></li><li><span><a href=\"#7.-Solução\" data-toc-modified-id=\"7.-Solução-8\">7. Solução</a></span></li></ul></div>"
   ]
  },
  {
   "cell_type": "markdown",
   "id": "3605d95c",
   "metadata": {},
   "source": [
    "* Nota: O sumário funciona apenas localmente!"
   ]
  },
  {
   "cell_type": "markdown",
   "id": "8fae8e8e",
   "metadata": {},
   "source": [
    "# 1. Introdução\n",
    "---\n",
    "\n",
    "## 1.1. A Empresa\n",
    "\n",
    "## 1.2. Questões de Negócio\n",
    "\n",
    "## 1.3. Premissas de Negócio"
   ]
  },
  {
   "cell_type": "markdown",
   "id": "412a0056",
   "metadata": {},
   "source": [
    "# 2. Planejamento da Solução\n",
    "---\n",
    "\n",
    "## 2.1. Dataset\n",
    "\n",
    "## 2.2. Produto Final (Entregável)\n",
    "\n",
    "## 2.3. Ferramentas\n",
    "\n",
    "## 2.4. Planejamento"
   ]
  },
  {
   "cell_type": "markdown",
   "id": "f0979ba5",
   "metadata": {},
   "source": [
    "# 3. Imports de Bibliotecas\n",
    "---"
   ]
  },
  {
   "cell_type": "markdown",
   "id": "13dc2cb3",
   "metadata": {},
   "source": [
    "# 4. Obtenção dos Dados\n",
    "---"
   ]
  },
  {
   "cell_type": "markdown",
   "id": "838cb8cc",
   "metadata": {},
   "source": [
    "# 5. Limpeza dos Dados\n",
    "---"
   ]
  },
  {
   "cell_type": "markdown",
   "id": "a6b8fbda",
   "metadata": {},
   "source": [
    "# 6. Análise Exploratória dos Dados\n",
    "---"
   ]
  },
  {
   "cell_type": "markdown",
   "id": "420528ee",
   "metadata": {},
   "source": [
    "# 7. Solução\n",
    "---"
   ]
  }
 ],
 "metadata": {
  "kernelspec": {
   "display_name": "Python 3 (ipykernel)",
   "language": "python",
   "name": "python3"
  },
  "language_info": {
   "codemirror_mode": {
    "name": "ipython",
    "version": 3
   },
   "file_extension": ".py",
   "mimetype": "text/x-python",
   "name": "python",
   "nbconvert_exporter": "python",
   "pygments_lexer": "ipython3",
   "version": "3.10.1"
  },
  "toc": {
   "base_numbering": 1,
   "nav_menu": {},
   "number_sections": false,
   "sideBar": true,
   "skip_h1_title": false,
   "title_cell": "Sumário",
   "title_sidebar": "Contents",
   "toc_cell": true,
   "toc_position": {
    "height": "calc(100% - 180px)",
    "left": "10px",
    "top": "150px",
    "width": "250px"
   },
   "toc_section_display": true,
   "toc_window_display": true
  }
 },
 "nbformat": 4,
 "nbformat_minor": 5
}
